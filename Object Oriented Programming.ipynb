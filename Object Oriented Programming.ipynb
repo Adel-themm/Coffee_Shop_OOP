{
 "cells": [
  {
   "cell_type": "markdown",
   "id": "3ad766b6-f2db-4f47-948b-169148d5e4cf",
   "metadata": {},
   "source": [
    "# Introduction to Object-Oriented Programming (OOP)\n",
    "## Using Examples from the Burgeons Coffee Shop\n",
    "\n",
    "### Presented by: The Burgeons - Group One(1)\n"
   ]
  },
  {
   "cell_type": "markdown",
   "id": "aaf541ab-5f6b-48f3-860a-290142ddac66",
   "metadata": {},
   "source": [
    "#### What is Object-Oriented Programming (OOP)?\n",
    "- OOP is a programming paradigm based on the concept of \"objects\".\n",
    "- These objects represent real-world entities that have **attributes** (data) and **methods** (functions).\n",
    "\n",
    "#### Fundamental Concepts of OOP:\n",
    "1. **Encapsulation**: Bundling data and methods into a single class.\n",
    "2. **Abstraction**: Hiding unnecessary details, showing only what is relevant.\n",
    "3. **Inheritance**: A way to create new classes from existing ones.\n",
    "4. **Polymorphism**: Different objects can respond to the same method in different ways.\n",
    "\n",
    "#### Why Use OOP?\n",
    "- Improves code reusability.\n",
    "- Makes complex programs easier to manage.\n",
    "- Promotes scalability and maintenance.\n",
    "- Provides a better Graphical User Interface.\n"
   ]
  },
  {
   "cell_type": "markdown",
   "id": "14144f03-ccd0-4e4b-8fd5-d58b8e76f266",
   "metadata": {},
   "source": [
    "## Objects and Classes in OOP\n",
    "- **Objects**: Real-world entities with attributes and behaviors.\n",
    "- **Classes**: Blueprints or templates for creating objects.\n",
    "- **Instance**: Represents an individual object that follows the blueprints.   \n",
    "\n",
    "### Example:\n",
    "Think of a beverage. It has characteristics like:\n",
    "- **Attributes**: name, size, price\n",
    "- **Methods**: display information, apply discount\n"
   ]
  },
  {
   "cell_type": "code",
   "execution_count": 225,
   "id": "19b54c6a-f245-46e7-8214-9e8c3efe9eb8",
   "metadata": {},
   "outputs": [],
   "source": [
    "# Beverage class example\n",
    "\n",
    "class Beverage:\n",
    "    def __init__(self, name, size, price):\n",
    "        \"\"\"Initialize the beverage with name, size, and price\"\"\"\n",
    "        self.name = name\n",
    "        self.size = size\n",
    "        self.price = price\n",
    "    \n",
    "    def display_info(self):\n",
    "        \"\"\"Displays details of the beverage\"\"\"\n",
    "        print(f\"Beverage Name: {self.name}\")\n",
    "        print(f\"Size: {self.size}ml\")\n",
    "        print(f\"Price: ${self.price:.2f}\")\n",
    "    \n",
    "    def apply_discount(self, discount_percentage):\n",
    "        \"\"\"Applies a discount to the beverage price\"\"\"\n",
    "        discount_amount = self.price * (discount_percentage / 100)  # Calculate the discount amount\n",
    "        self.price -= discount_amount \n",
    "        print(f\"The new price of the {self.name} after a {discount_percentage}% discount was applied is ${self.price:.2f}\")"
   ]
  },
  {
   "cell_type": "code",
   "execution_count": 191,
   "id": "e95d11b8-6e62-445a-8c51-a61c7a02c152",
   "metadata": {},
   "outputs": [],
   "source": [
    "#Creating beverage objects\n",
    "coffee = Beverage(\"Cappuccino\", 250, 3.50)\n",
    "smoothie = Beverage(\"Mango Smoothie\", 350, 4.75)"
   ]
  },
  {
   "cell_type": "code",
   "execution_count": 193,
   "id": "a9c2983c-156b-4c6e-8c97-317f6da3a28e",
   "metadata": {},
   "outputs": [
    {
     "name": "stdout",
     "output_type": "stream",
     "text": [
      "Cappuccino\n",
      "3.5\n",
      "250\n"
     ]
    }
   ],
   "source": [
    "# Display coffee attributes\n",
    "print(coffee.name)\n",
    "print(coffee.price)\n",
    "print(coffee.size)"
   ]
  },
  {
   "cell_type": "code",
   "execution_count": 195,
   "id": "18dd5bcf-eab1-4df7-845a-c0b6b9f710df",
   "metadata": {},
   "outputs": [
    {
     "name": "stdout",
     "output_type": "stream",
     "text": [
      "Mango Smoothie\n",
      "4.75\n",
      "350\n"
     ]
    }
   ],
   "source": [
    "# Display smoothie attributes\n",
    "print(smoothie.name)\n",
    "print(smoothie.price)\n",
    "print(smoothie.size)"
   ]
  },
  {
   "cell_type": "code",
   "execution_count": 206,
   "id": "66da9d68-c5ce-4164-a483-08bb718ec21e",
   "metadata": {},
   "outputs": [
    {
     "name": "stdout",
     "output_type": "stream",
     "text": [
      "Beverage Name: Mango Smoothie\n",
      "Size: 350ml\n",
      "Price: $4.04\n"
     ]
    }
   ],
   "source": [
    "# Display smoothie info\n",
    "smoothie.display_info()"
   ]
  },
  {
   "cell_type": "code",
   "execution_count": 208,
   "id": "7bb80f48-bd68-490e-9b95-e76fd4e89051",
   "metadata": {},
   "outputs": [
    {
     "name": "stdout",
     "output_type": "stream",
     "text": [
      "Beverage Name: Cappuccino\n",
      "Size: 250ml\n",
      "Price: $3.15\n"
     ]
    }
   ],
   "source": [
    "# Display coffee info\n",
    "coffee.display_info()"
   ]
  },
  {
   "cell_type": "code",
   "execution_count": 210,
   "id": "f5907896-1b96-4d13-acf2-3177e6b9ef89",
   "metadata": {},
   "outputs": [
    {
     "name": "stdout",
     "output_type": "stream",
     "text": [
      "The new price of the Cappuccino after a 10% discount was applied is $2.83\n"
     ]
    }
   ],
   "source": [
    "# Apply discounts to coffee\n",
    "coffee.apply_discount(10)"
   ]
  },
  {
   "cell_type": "code",
   "execution_count": 212,
   "id": "e8dbe683-24b9-48dc-8dfb-85a30b9fce8b",
   "metadata": {},
   "outputs": [
    {
     "name": "stdout",
     "output_type": "stream",
     "text": [
      "The new price of the Mango Smoothie after a 15% discount was applied is $3.43\n"
     ]
    }
   ],
   "source": [
    "# Apply discounts to smoothie\n",
    "smoothie.apply_discount(15)"
   ]
  },
  {
   "cell_type": "markdown",
   "id": "c4db18e0-070f-46d1-9875-b196e8c4750b",
   "metadata": {},
   "source": [
    "#### Explanation of Beverage Class\n",
    "- The `Beverage` class represents a blueprint for creating beverage objects.\n",
    "- **`__init__`** is the constructor method that initializes the object's attributes: `name`, `size`, and `price`.\n",
    "- **`display_info()`**: A method to print the beverage details.\n",
    "- **`apply_discount()`**: A method that calculates and applies a discount to the beverage price.\n",
    "\n",
    "#### Fundamental Concepts:\n",
    "- **Encapsulation**: We group related data and behaviors (like price and applying a discount) inside the `Beverage` class.\n",
    "- **Reusability**: Once we define this class, we can create as many beverages as we need with different properties.\n"
   ]
  },
  {
   "cell_type": "markdown",
   "id": "fc6028a8-1709-4b1c-b947-8b5de40ecf18",
   "metadata": {},
   "source": [
    "#### Inheritance in OOP\n",
    "We can create a new class based on the `Beverage` class. For example, we can create a `HotBeverage` class that inherits from `Beverage`.\n",
    "\n",
    "This allows us to reuse the attributes and methods from `Beverage` and add new ones specific to hot drinks.\n"
   ]
  },
  {
   "cell_type": "code",
   "execution_count": 75,
   "id": "3d7ca348-a08b-4fa1-b40a-6e93da2e2d46",
   "metadata": {},
   "outputs": [],
   "source": [
    "# Inheriting from the Beverage class\n",
    "class HotBeverage(Beverage):\n",
    "    def __init__(self, name, size, price, temperature):\n",
    "        # Inherit the attributes from the Beverage class\n",
    "        super().__init__(name, size, price)\n",
    "        self.temperature = temperature\n",
    "    \n",
    "    def display_temperature(self):\n",
    "        \"\"\"Displays the temperature of the hot beverage\"\"\"\n",
    "        print(f\"The {self.name} is served at {self.temperature}°C\")"
   ]
  },
  {
   "cell_type": "code",
   "execution_count": 77,
   "id": "a1bcada0-f30b-45ea-bd0c-44a6761670fc",
   "metadata": {},
   "outputs": [],
   "source": [
    "# Creating a hot beverage object\n",
    "tea = HotBeverage(\"Green Tea\", 200, 2.50, 80)"
   ]
  },
  {
   "cell_type": "code",
   "execution_count": 79,
   "id": "765113df-f543-406a-8245-1842ea92c590",
   "metadata": {},
   "outputs": [
    {
     "name": "stdout",
     "output_type": "stream",
     "text": [
      "Beverage Name: Green Tea\n",
      "Size: 200ml\n",
      "Price: $2.50\n"
     ]
    }
   ],
   "source": [
    "# Displaying info and temperature\n",
    "tea.display_info()"
   ]
  },
  {
   "cell_type": "code",
   "execution_count": 81,
   "id": "5a157fcc-0487-4849-a29b-1444f73ff538",
   "metadata": {},
   "outputs": [
    {
     "name": "stdout",
     "output_type": "stream",
     "text": [
      "The Green Tea is served at 80°C\n"
     ]
    }
   ],
   "source": [
    "# Displaying info and temperature\n",
    "tea.display_temperature()"
   ]
  },
  {
   "cell_type": "markdown",
   "id": "d63fd96f-ceaf-4193-af41-960b5665eaa0",
   "metadata": {},
   "source": [
    "### Polymorphism Example\n",
    "Polymorphism allows us to use the same method for different objects, even if they behave differently. \n",
    "\n",
    "In this example, we will see how `BobaTea` and `Coffee` classes extend the base class `Beverage` and provide their own implementations of the `prepare_beverage()` method:\n",
    "\n",
    "1. **BobaTea**: Prepares a beverage with specified toppings.\n",
    "2. **Coffee**: Prepares a beverage with a specified size.\n",
    "\n",
    "By calling the `prepare_order()` function with instances of both classes, we can observe how polymorphism allows us to treat different types of beverages uniformly, while still respecting their unique characteristics.\n"
   ]
  },
  {
   "cell_type": "code",
   "execution_count": 83,
   "id": "a7ed24b1-2260-44e0-b5bf-991ba1ef549c",
   "metadata": {},
   "outputs": [],
   "source": [
    "# Polymorphism Example with Boba Tea and Coffee\n",
    "\n",
    "class Beverage:\n",
    "    def __init__(self, name):\n",
    "        self.name = name\n",
    "        \n",
    "    def prepare_beverage(self):\n",
    "        pass  # Placeholder for child classes\n",
    "\n",
    "class BobaTea(Beverage):\n",
    "    def __init__(self, name, toppings):\n",
    "        super().__init__(name)  \n",
    "        self.toppings = toppings\n",
    "    \n",
    "    def prepare_beverage(self):\n",
    "        return f\"Preparing {self.name} with toppings: {' and '.join(self.toppings)}\"\n",
    "\n",
    "class Coffee(Beverage):\n",
    "    def __init__(self, name, size):\n",
    "        super().__init__(name)\n",
    "        self.size = size\n",
    "    \n",
    "    def prepare_beverage(self):\n",
    "        return f\"Preparing {self.size}ml of {self.name}\""
   ]
  },
  {
   "cell_type": "code",
   "execution_count": 85,
   "id": "006cef17-d711-45ff-977d-2e77935d131c",
   "metadata": {},
   "outputs": [],
   "source": [
    "# Demonstrating Polymorphism\n",
    "def prepare_order(beverage):\n",
    "    print(beverage.prepare_beverage())"
   ]
  },
  {
   "cell_type": "code",
   "execution_count": 217,
   "id": "f12cf2f5-bc74-41e1-ab80-a0bb6971021b",
   "metadata": {},
   "outputs": [],
   "source": [
    "# Example Usage\n",
    "boba = BobaTea(\"Classic Milk Tea\", [\"boba\", \"pudding\"])\n",
    "coffee = Coffee(\"Cappuccino\", 250)"
   ]
  },
  {
   "cell_type": "code",
   "execution_count": 219,
   "id": "449e5912-a0d0-4e5f-a401-3c3f3c40be2d",
   "metadata": {},
   "outputs": [
    {
     "name": "stdout",
     "output_type": "stream",
     "text": [
      "Preparing Classic Milk Tea with toppings: boba and pudding\n"
     ]
    }
   ],
   "source": [
    "# Using polymorphism to prepare different types of beverages\n",
    "prepare_order(boba)      "
   ]
  },
  {
   "cell_type": "code",
   "execution_count": 221,
   "id": "7c05654f-f5ee-4d23-b11f-9374757f0601",
   "metadata": {},
   "outputs": [
    {
     "name": "stdout",
     "output_type": "stream",
     "text": [
      "Preparing 250ml of Cappuccino\n"
     ]
    }
   ],
   "source": [
    "# Using polymorphism to prepare different types of beverages\n",
    "prepare_order(coffee)      "
   ]
  },
  {
   "cell_type": "markdown",
   "id": "741493c9-ecaf-4f58-af1a-5f1356ce9c7b",
   "metadata": {},
   "source": [
    "#### Conclusion\n",
    "- **OOP** helps us organize code into reusable, scalable, and maintainable classes.\n",
    "- We explored key concepts like **encapsulation**, **inheritance**, and **polymorphism** using a real-world Coffee Shop example.\n",
    "- Understanding these concepts makes programming more intuitive and efficient.\n",
    "\n"
   ]
  },
  {
   "cell_type": "code",
   "execution_count": null,
   "id": "2c09dd9e-a262-43ff-956c-b9eb9186f29c",
   "metadata": {},
   "outputs": [],
   "source": []
  }
 ],
 "metadata": {
  "kernelspec": {
   "display_name": "Python 3 (ipykernel)",
   "language": "python",
   "name": "python3"
  },
  "language_info": {
   "codemirror_mode": {
    "name": "ipython",
    "version": 3
   },
   "file_extension": ".py",
   "mimetype": "text/x-python",
   "name": "python",
   "nbconvert_exporter": "python",
   "pygments_lexer": "ipython3",
   "version": "3.12.4"
  }
 },
 "nbformat": 4,
 "nbformat_minor": 5
}
